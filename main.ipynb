{
 "cells": [
  {
   "cell_type": "code",
   "execution_count": 26,
   "metadata": {},
   "outputs": [],
   "source": [
    "import yaml\n",
    "import os\n",
    "from script import translate_tool, audio_tool, whisper_tool\n",
    "\n",
    "if __name__ == \"__main__\":\n",
    "\n",
    "    os.makedirs(\"out\", exist_ok=True)\n",
    "    with open(\"config.yaml\", encoding=\"utf-8\") as f:\n",
    "        config = yaml.load(f.read(), Loader=yaml.FullLoader)\n",
    "\n",
    "    print(\"audio extract begin\")\n",
    "    audio_tool.audio_extract(config[\"input\"], config[\"output\"])\n",
    "    print(\"audio extract success\")\n",
    "\n",
    "    print(\"whisper begin\")\n",
    "    whisper_tool.do_whisper(\n",
    "        config[\"output\"],\n",
    "        config[\"srt_path\"],\n",
    "        config[\"from\"],\n",
    "        config[\"hf_model_path\"],\n",
    "        config[\"device\"],\n",
    "    )\n",
    "    print(\"whisper success\")\n",
    "\n",
    "    print(\"translate begin\")\n",
    "    translate_tool.do_translate(\n",
    "        config[\"srt_path\"],\n",
    "        config[\"srt_translate_path\"],\n",
    "        config[\"from\"],\n",
    "        config[\"to\"],\n",
    "        config[\"translate_threads\"],\n",
    "    )\n",
    "    print(\"translate success\")\n",
    "\n",
    "    print(\"success\")"
   ]
  },
  {
   "cell_type": "markdown",
   "metadata": {},
   "source": [
    "### audio_tool"
   ]
  },
  {
   "cell_type": "code",
   "execution_count": null,
   "metadata": {},
   "outputs": [],
   "source": [
    "# 解决中文路径ffmpeg无法运行的问题\n",
    "def audio_extract(input_path: PythonObject, output_path: PythonObject):\n",
    "    var ffmpeg = Python.import_module(\"ffmpeg\")\n",
    "    var subprocess = Python.import_module(\"subprocess\")\n",
    "    var command = [\n",
    "        \"ffmpeg\",\n",
    "        \"-i\",\n",
    "        \"pipe:0\",  # 从stdin读取输入\n",
    "        \"-vn\",  # 仅提取音频\n",
    "        output_path,  # 输出文件路径\n",
    "    ]\n",
    "    var input = str(input_path)\n",
    "    var f = open(input, \"r\")\n",
    "    subprocess.run(command, stdin=f)\n"
   ]
  },
  {
   "cell_type": "code",
   "execution_count": null,
   "metadata": {
    "vscode": {
     "languageId": "shellscript"
    }
   },
   "outputs": [],
   "source": []
  }
 ],
 "metadata": {
  "kernelspec": {
   "display_name": "py3.12Env",
   "language": "python",
   "name": "py3.12env"
  },
  "language_info": {
   "codemirror_mode": {
    "name": "ipython",
    "version": 3
   },
   "file_extension": ".py",
   "mimetype": "text/x-python",
   "name": "python",
   "nbconvert_exporter": "python",
   "pygments_lexer": "ipython3",
   "version": "3.12.2"
  }
 },
 "nbformat": 4,
 "nbformat_minor": 2
}
