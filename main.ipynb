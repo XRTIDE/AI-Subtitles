{
 "cells": [
  {
   "cell_type": "code",
   "execution_count": 26,
   "metadata": {},
   "outputs": [],
   "source": [
    "from python import Python\n",
    "\n",
    "\n",
    "def main():\n",
    "    Python.add_to_path(\"script\")\n",
    "    var yaml = Python.import_module(\"yaml\")\n",
    "    var os = Python.import_module(\"os\")\n",
    "    var translate_tool = Python.import_module(\"translate_tool\")\n",
    "    var audio_tool = Python.import_module(\"audio_tool\")\n",
    "    var whisper_tool = Python.import_module(\"whisper_tool\")\n",
    "\n",
    "    # 新建输出文件夹\n",
    "    os.makedirs(\"out\", 511, True)\n",
    "\n",
    "    # 读取配置文件\n",
    "    var config: PythonObject\n",
    "    with open(\"config.yaml\", \"r\") as f:\n",
    "        config = yaml.load(f.read(), yaml.FullLoader)\n",
    "\n",
    "    # 提取音频\n",
    "    print(\"audio extract begin\")\n",
    "    audio_tool.audio_extract(config[\"input\"], config[\"output\"])\n",
    "    print(\"audio extract success\")\n",
    "\n",
    "    # 提取字幕\n",
    "    print(\"whisper begin\")\n",
    "    whisper_tool.do_whisper(\n",
    "        config[\"output\"],\n",
    "        config[\"srt_path\"],\n",
    "        config[\"from\"],\n",
    "        config[\"hf_model_path\"],\n",
    "        config[\"device\"],\n",
    "    )\n",
    "    print(\"whisper success\")\n",
    "\n",
    "    # 翻译字幕\n",
    "    print(\"translate begin\")\n",
    "    translate_tool.do_translate(\n",
    "        config[\"srt_path\"],\n",
    "        config[\"srt_translate_path\"],\n",
    "        config[\"from\"],\n",
    "        config[\"to\"],\n",
    "        config[\"translate_threads\"],\n",
    "    )\n",
    "    print(\"translate success\")\n",
    "\n",
    "    # 全部成功\n",
    "    print(\"all success\")\n"
   ]
  },
  {
   "cell_type": "markdown",
   "metadata": {},
   "source": [
    "### audio_tool"
   ]
  },
  {
   "cell_type": "code",
   "execution_count": null,
   "metadata": {},
   "outputs": [],
   "source": [
    "# 解决中文路径ffmpeg无法运行的问题\n",
    "def audio_extract(input_path: PythonObject, output_path: PythonObject):\n",
    "    var ffmpeg = Python.import_module(\"ffmpeg\")\n",
    "    var subprocess = Python.import_module(\"subprocess\")\n",
    "    var command = [\n",
    "        \"ffmpeg\",\n",
    "        \"-i\",\n",
    "        \"pipe:0\",  # 从stdin读取输入\n",
    "        \"-vn\",  # 仅提取音频\n",
    "        output_path,  # 输出文件路径\n",
    "    ]\n",
    "    var input = str(input_path)\n",
    "    var f = open(input, \"r\")\n",
    "    subprocess.run(command, stdin=f)\n"
   ]
  }
 ],
 "metadata": {
  "kernelspec": {
   "display_name": "Python 3",
   "language": "python",
   "name": "python3"
  },
  "language_info": {
   "codemirror_mode": {
    "name": "mojo"
   },
   "file_extension": ".mojo",
   "mimetype": "text/x-mojo",
   "name": "python",
   "version": "3.10.12"
  }
 },
 "nbformat": 4,
 "nbformat_minor": 2
}
